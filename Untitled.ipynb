{
 "cells": [
  {
   "cell_type": "code",
   "execution_count": 4,
   "metadata": {},
   "outputs": [],
   "source": [
    "from splinter import Browser\n",
    "from bs4 import BeautifulSoup\n",
    "import requests\n",
    "import os\n",
    "import pandas as pd\n",
    "import time\n"
   ]
  },
  {
   "cell_type": "code",
   "execution_count": 21,
   "metadata": {},
   "outputs": [],
   "source": [
    " executable_path = {'executable_path': 'chromedriver.exe'}\n",
    " browser = Browser('chrome', **executable_path, headless=False)"
   ]
  },
  {
   "cell_type": "code",
   "execution_count": 22,
   "metadata": {},
   "outputs": [],
   "source": [
    "hemispheres_url = \"https://astrogeology.usgs.gov/search/results?q=hemisphere+enhanced&k1=target&v1=Mars\"\n",
    "\n",
    "  \n",
    "    \n",
    "html7 = browser.html\n",
    "soup7 = BeautifulSoup(html7, \"html.parser\")"
   ]
  },
  {
   "cell_type": "code",
   "execution_count": 23,
   "metadata": {},
   "outputs": [
    {
     "name": "stdout",
     "output_type": "stream",
     "text": [
      "https://www.jpl.nasa.gov/spaceimages/?search=&category=Mars/spaceimages/images/mediumsize/PIA18432_ip.jpg\n"
     ]
    }
   ],
   "source": [
    "# URL of page to be scraped\n",
    "url2 = 'https://www.jpl.nasa.gov/spaceimages/?search=&category=Mars'\n",
    "# Retrieve page with the requests module\n",
    "browser.visit(url2)\n",
    "html12=browser.html\n",
    "# Create BeautifulSoup object; parse with 'lxml'\n",
    "soup12 = BeautifulSoup(html12, 'html.parser')\n",
    "\n",
    "item = soup2.find('a', class_='fancybox')\n",
    "featured_img = item['data-fancybox-href']             \n",
    "\n",
    "print(url2 + featured_img)"
   ]
  },
  {
   "cell_type": "code",
   "execution_count": 35,
   "metadata": {},
   "outputs": [
    {
     "name": "stdout",
     "output_type": "stream",
     "text": [
      "[]\n"
     ]
    }
   ],
   "source": [
    "url3 = 'https://www.jpl.nasa.gov/spaceimages/?search=&category=Mars'\n",
    "# Retrieve page with the requests module\n",
    "browser.visit(url3)\n",
    "html12=browser.html\n",
    "# Create BeautifulSoup object; parse with 'lxml'\n",
    "soup12 = BeautifulSoup(html12, 'html.parser')\n",
    "\n",
    "item = soup2.find_all('div', class_='fancybox-inner fancybox-skin fancybox-dark-skin fancybox-dark-skin-open')\n",
    "#featured_img = item['src']             \n",
    "\n",
    "#print(url3 + featured_img)\n",
    "print(item)\n",
    "#<img src=\"/spaceimages/images/mediumsize/PIA20318_ip.jpg\" class=\"fancybox-image\" style=\"display: inline;\">\n",
    "#<div class=\"fancybox-inner fancybox-skin fancybox-dark-skin fancybox-dark-skin-open\" \n",
    "#style=\"border-width: 10px; margin-top: -10px; margin-left: -10px; overflow: visible; width: 572px; height: 269px;\"\n",
    "#><img src=\"/spaceimages/images/mediumsize/PIA20318_ip.jpg\" class=\"fancybox-image\" style=\"display: inline;\">\n",
    "#<a title=\"Previous\" class=\"fancybox-nav fancybox-prev\" href=\"javascript:;\"><span></span></a><a title=\"Next\" class=\"fancybox-nav fancybox-next\" href=\"javascript:;\"><span></span></a><a title=\"Expand image\" class=\"fancybox-expand\" href=\"javascript:;\" style=\"display: none;\"></a></div>"
   ]
  },
  {
   "cell_type": "code",
   "execution_count": null,
   "metadata": {},
   "outputs": [],
   "source": []
  },
  {
   "cell_type": "code",
   "execution_count": null,
   "metadata": {},
   "outputs": [],
   "source": []
  }
 ],
 "metadata": {
  "kernelspec": {
   "display_name": "Python 3",
   "language": "python",
   "name": "python3"
  },
  "language_info": {
   "codemirror_mode": {
    "name": "ipython",
    "version": 3
   },
   "file_extension": ".py",
   "mimetype": "text/x-python",
   "name": "python",
   "nbconvert_exporter": "python",
   "pygments_lexer": "ipython3",
   "version": "3.6.6"
  }
 },
 "nbformat": 4,
 "nbformat_minor": 2
}
